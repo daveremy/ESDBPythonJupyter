{
 "cells": [
  {
   "cell_type": "markdown",
   "id": "97177572",
   "metadata": {},
   "source": [
    "# EventStoreDB and Python: Getting Started\n",
    "\n",
    "This Jupyter notebook will guide you through using the EventStoreDB Python client to build a simple eCommerce application. We will start by appending and reading events.\n",
    "\n",
    "Note that this notebook assume you are running EventStoreDB on port 2113. Look here https://developers.eventstore.com/server/v20.10/installation.html#quick-start if you need to quickly install and run EventStoreDB on your desktop.\n",
    "\n",
    "## Setting up the Environment\n",
    "\n",
    "First, we need to install the necessary packages and set up our environment. The EventStoreDB client can be installed via pip:\n"
   ]
  },
  {
   "cell_type": "code",
   "execution_count": 1,
   "id": "6534b34d",
   "metadata": {},
   "outputs": [
    {
     "name": "stdout",
     "output_type": "stream",
     "text": [
      "Collecting esdbclient\n",
      "  Downloading esdbclient-0.15-py3-none-any.whl (102 kB)\n",
      "     ---------------------------------------- 0.0/102.5 kB ? eta -:--:--\n",
      "     -------------------------------------- 102.5/102.5 kB 3.0 MB/s eta 0:00:00\n",
      "Collecting typing_extensions\n",
      "  Downloading typing_extensions-4.6.3-py3-none-any.whl (31 kB)\n",
      "Collecting dnspython<3.0.0,>=2.3.0\n",
      "  Using cached dnspython-2.3.0-py3-none-any.whl (283 kB)\n",
      "Collecting protobuf>=3.11.0\n",
      "  Using cached protobuf-4.23.2-cp310-abi3-win_amd64.whl (422 kB)\n",
      "Collecting grpcio!=1.52.*,>=1.51.0\n",
      "  Using cached grpcio-1.54.2-cp310-cp310-win_amd64.whl (4.1 MB)\n",
      "Installing collected packages: typing_extensions, protobuf, grpcio, dnspython, esdbclient\n",
      "Successfully installed dnspython-2.3.0 esdbclient-0.15 grpcio-1.54.2 protobuf-4.23.2 typing_extensions-4.6.3\n"
     ]
    }
   ],
   "source": [
    "!pip install esdbclient"
   ]
  },
  {
   "cell_type": "markdown",
   "id": "4cf2c1ef",
   "metadata": {},
   "source": [
    "Now, let's import the necessary modules:"
   ]
  },
  {
   "cell_type": "code",
   "execution_count": 2,
   "id": "0d1567f0",
   "metadata": {},
   "outputs": [],
   "source": [
    "import uuid\n",
    "from esdbclient import EventStoreDBClient, NewEvent, StreamState"
   ]
  },
  {
   "cell_type": "markdown",
   "id": "cce29c95",
   "metadata": {},
   "source": [
    "## Connecting to EventStoreDB\n",
    "\n",
    "We'll start by establishing a connection to our EventStoreDB instance. For this example, we'll use an insecure server running locally on port 2113:\n"
   ]
  },
  {
   "cell_type": "code",
   "execution_count": 4,
   "id": "ff4785fa",
   "metadata": {},
   "outputs": [],
   "source": [
    "client = EventStoreDBClient(uri=\"esdb://localhost:2113?Tls=false\")"
   ]
  },
  {
   "cell_type": "markdown",
   "id": "ec808090",
   "metadata": {},
   "source": [
    "## Appending Events\n",
    "\n",
    "In an eCommerce application, an example of an event would be creating an order. Let's simulate this by appending an `OrderCreated` event to a stream:\n"
   ]
  },
  {
   "cell_type": "code",
   "execution_count": 10,
   "id": "8a7ad2c0",
   "metadata": {},
   "outputs": [],
   "source": [
    "\n",
    "stream_name = str(uuid.uuid4())\n",
    "event = NewEvent(\n",
    "    type='OrderCreated',\n",
    "    data=b'{\"order_id\": \"1234\", \"product_id\": \"5678\", \"quantity\": 2}'\n",
    ")\n",
    "commit_position = client.append_to_stream(\n",
    "    stream_name=stream_name, \n",
    "    current_version=StreamState.NO_STREAM, \n",
    "    events=[event]\n",
    ")\n"
   ]
  },
  {
   "cell_type": "markdown",
   "id": "9355c983",
   "metadata": {},
   "source": [
    "In the above code, we create a unique stream name using a UUID, then create a new `OrderCreated` event with some sample data. We then append this event to the stream.\n",
    "\n",
    "The `append_to_stream()` method returns a commit position, which is the overall position in the database of the last new event recorded by this operation.\n"
   ]
  },
  {
   "cell_type": "markdown",
   "id": "5c44cbf6",
   "metadata": {},
   "source": [
    "## Reading Events\n",
    "\n",
    "Now that we've recorded an event, let's read it back:\n"
   ]
  },
  {
   "cell_type": "code",
   "execution_count": 11,
   "id": "92d9f217",
   "metadata": {},
   "outputs": [
    {
     "name": "stdout",
     "output_type": "stream",
     "text": [
      "(RecordedEvent(type='OrderCreated', data=b'{\"order_id\": \"1234\", \"product_id\": \"5678\", \"quantity\": 2}', metadata=b'', content_type='application/json', id=UUID('b0ae6a7d-a45b-4534-836b-d7e2a734ae83'), stream_name='c17ac815-2bf3-433e-bada-62a0a5933196', stream_position=0, commit_position=6102, retry_count=None),)\n"
     ]
    }
   ],
   "source": [
    "read_response = client.read_stream(stream_name)\n",
    "\n",
    "recorded_events = tuple(read_response)\n",
    "\n",
    "print(recorded_events)"
   ]
  },
  {
   "cell_type": "markdown",
   "id": "a1a70a2b",
   "metadata": {},
   "source": [
    "In this code, we call `read_stream()` to get all the recorded events in the stream. The method returns a \"read response\" iterator, which we convert to a tuple to easily view the events. We then print out the recorded events.\n",
    "\n",
    "This concludes our introduction to appending and reading events with EventStoreDB and Python. In the next sections, we will explore more complex scenarios involving business rules and integration events."
   ]
  }
 ],
 "metadata": {
  "kernelspec": {
   "display_name": "Python [conda env:EventStoreDBExample]",
   "language": "python",
   "name": "conda-env-EventStoreDBExample-py"
  },
  "language_info": {
   "codemirror_mode": {
    "name": "ipython",
    "version": 3
   },
   "file_extension": ".py",
   "mimetype": "text/x-python",
   "name": "python",
   "nbconvert_exporter": "python",
   "pygments_lexer": "ipython3",
   "version": "3.10.11"
  }
 },
 "nbformat": 4,
 "nbformat_minor": 5
}
